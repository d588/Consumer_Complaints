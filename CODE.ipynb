{
  "nbformat": 4,
  "nbformat_minor": 0,
  "metadata": {
    "kernelspec": {
      "display_name": "Python 3",
      "language": "python",
      "name": "python3"
    },
    "language_info": {
      "codemirror_mode": {
        "name": "ipython",
        "version": 3
      },
      "file_extension": ".py",
      "mimetype": "text/x-python",
      "name": "python",
      "nbconvert_exporter": "python",
      "pygments_lexer": "ipython3",
      "version": "3.7.6"
    },
    "colab": {
      "name": "CODE.ipynb",
      "provenance": []
    }
  },
  "cells": [
    {
      "cell_type": "code",
      "metadata": {
        "id": "PhOdM2nI06jh"
      },
      "source": [
        "#Import Libraries\n",
        "import pandas as pd\n",
        "import numpy as np\n",
        "from sklearn.impute import SimpleImputer\n",
        "\n",
        "# The next two lines of codes help to avoid unnecessary warnings\n",
        "import warnings\n",
        "warnings.filterwarnings(\"ignore\")"
      ],
      "execution_count": null,
      "outputs": []
    },
    {
      "cell_type": "code",
      "metadata": {
        "id": "eN1PanoE06jj",
        "outputId": "63cfc331-1468-4197-9ddc-a6c3550c9595"
      },
      "source": [
        "# Loading the Training DataSet\n",
        "df_train_1=pd.read_csv('Consumer_Complaints.csv')\n",
        "df_train_1.head()"
      ],
      "execution_count": null,
      "outputs": [
        {
          "output_type": "execute_result",
          "data": {
            "text/html": [
              "<div>\n",
              "<style scoped>\n",
              "    .dataframe tbody tr th:only-of-type {\n",
              "        vertical-align: middle;\n",
              "    }\n",
              "\n",
              "    .dataframe tbody tr th {\n",
              "        vertical-align: top;\n",
              "    }\n",
              "\n",
              "    .dataframe thead th {\n",
              "        text-align: right;\n",
              "    }\n",
              "</style>\n",
              "<table border=\"1\" class=\"dataframe\">\n",
              "  <thead>\n",
              "    <tr style=\"text-align: right;\">\n",
              "      <th></th>\n",
              "      <th>Date received</th>\n",
              "      <th>Product</th>\n",
              "      <th>Sub-product</th>\n",
              "      <th>Issue</th>\n",
              "      <th>Sub-issue</th>\n",
              "      <th>Consumer complaint narrative</th>\n",
              "      <th>Company public response</th>\n",
              "      <th>Company</th>\n",
              "      <th>State</th>\n",
              "      <th>ZIP code</th>\n",
              "      <th>Tags</th>\n",
              "      <th>Consumer consent provided?</th>\n",
              "      <th>Submitted via</th>\n",
              "      <th>Date sent to company</th>\n",
              "      <th>Company response to consumer</th>\n",
              "      <th>Timely response?</th>\n",
              "      <th>Consumer disputed?</th>\n",
              "      <th>Complaint ID</th>\n",
              "    </tr>\n",
              "  </thead>\n",
              "  <tbody>\n",
              "    <tr>\n",
              "      <th>0</th>\n",
              "      <td>2015-10-14</td>\n",
              "      <td>Credit reporting</td>\n",
              "      <td>NaN</td>\n",
              "      <td>Incorrect information on credit report</td>\n",
              "      <td>Information is not mine</td>\n",
              "      <td>NaN</td>\n",
              "      <td>NaN</td>\n",
              "      <td>Equifax</td>\n",
              "      <td>GA</td>\n",
              "      <td>30134</td>\n",
              "      <td>NaN</td>\n",
              "      <td>Consent not provided</td>\n",
              "      <td>Web</td>\n",
              "      <td>2015-10-14</td>\n",
              "      <td>Closed with explanation</td>\n",
              "      <td>Yes</td>\n",
              "      <td>No</td>\n",
              "      <td>1605653</td>\n",
              "    </tr>\n",
              "    <tr>\n",
              "      <th>1</th>\n",
              "      <td>2015-04-26</td>\n",
              "      <td>Bank account or service</td>\n",
              "      <td>Other bank product/service</td>\n",
              "      <td>Deposits and withdrawals</td>\n",
              "      <td>NaN</td>\n",
              "      <td>RE : XXXX XXXX XXXX-PRIVILEGED AND CONFIDENTIA...</td>\n",
              "      <td>NaN</td>\n",
              "      <td>Wells Fargo &amp; Company</td>\n",
              "      <td>GA</td>\n",
              "      <td>319XX</td>\n",
              "      <td>NaN</td>\n",
              "      <td>Consent provided</td>\n",
              "      <td>Web</td>\n",
              "      <td>2015-04-26</td>\n",
              "      <td>Closed with explanation</td>\n",
              "      <td>Yes</td>\n",
              "      <td>Yes</td>\n",
              "      <td>1347613</td>\n",
              "    </tr>\n",
              "    <tr>\n",
              "      <th>2</th>\n",
              "      <td>2013-12-20</td>\n",
              "      <td>Credit card</td>\n",
              "      <td>NaN</td>\n",
              "      <td>Other</td>\n",
              "      <td>NaN</td>\n",
              "      <td>NaN</td>\n",
              "      <td>NaN</td>\n",
              "      <td>Citibank</td>\n",
              "      <td>SC</td>\n",
              "      <td>29203</td>\n",
              "      <td>NaN</td>\n",
              "      <td>NaN</td>\n",
              "      <td>Phone</td>\n",
              "      <td>2014-01-03</td>\n",
              "      <td>Closed with non-monetary relief</td>\n",
              "      <td>Yes</td>\n",
              "      <td>No</td>\n",
              "      <td>640394</td>\n",
              "    </tr>\n",
              "    <tr>\n",
              "      <th>3</th>\n",
              "      <td>2016-03-03</td>\n",
              "      <td>Debt collection</td>\n",
              "      <td>Other (i.e. phone, health club, etc.)</td>\n",
              "      <td>Disclosure verification of debt</td>\n",
              "      <td>Not given enough info to verify debt</td>\n",
              "      <td>NaN</td>\n",
              "      <td>Company has responded to the consumer and the ...</td>\n",
              "      <td>FAIR COLLECTIONS &amp; OUTSOURCING, INC.</td>\n",
              "      <td>OH</td>\n",
              "      <td>43082</td>\n",
              "      <td>NaN</td>\n",
              "      <td>NaN</td>\n",
              "      <td>Referral</td>\n",
              "      <td>2016-03-04</td>\n",
              "      <td>Closed with explanation</td>\n",
              "      <td>Yes</td>\n",
              "      <td>No</td>\n",
              "      <td>1815134</td>\n",
              "    </tr>\n",
              "    <tr>\n",
              "      <th>4</th>\n",
              "      <td>2015-01-30</td>\n",
              "      <td>Debt collection</td>\n",
              "      <td>Medical</td>\n",
              "      <td>Disclosure verification of debt</td>\n",
              "      <td>Not given enough info to verify debt</td>\n",
              "      <td>NaN</td>\n",
              "      <td>NaN</td>\n",
              "      <td>HCFS Health Care Financial Services, Inc.</td>\n",
              "      <td>CA</td>\n",
              "      <td>90036</td>\n",
              "      <td>NaN</td>\n",
              "      <td>NaN</td>\n",
              "      <td>Web</td>\n",
              "      <td>2015-01-30</td>\n",
              "      <td>Closed with explanation</td>\n",
              "      <td>Yes</td>\n",
              "      <td>Yes</td>\n",
              "      <td>1218613</td>\n",
              "    </tr>\n",
              "  </tbody>\n",
              "</table>\n",
              "</div>"
            ],
            "text/plain": [
              "  Date received                  Product  \\\n",
              "0    2015-10-14         Credit reporting   \n",
              "1    2015-04-26  Bank account or service   \n",
              "2    2013-12-20              Credit card   \n",
              "3    2016-03-03          Debt collection   \n",
              "4    2015-01-30          Debt collection   \n",
              "\n",
              "                             Sub-product  \\\n",
              "0                                    NaN   \n",
              "1             Other bank product/service   \n",
              "2                                    NaN   \n",
              "3  Other (i.e. phone, health club, etc.)   \n",
              "4                                Medical   \n",
              "\n",
              "                                    Issue  \\\n",
              "0  Incorrect information on credit report   \n",
              "1                Deposits and withdrawals   \n",
              "2                                   Other   \n",
              "3         Disclosure verification of debt   \n",
              "4         Disclosure verification of debt   \n",
              "\n",
              "                              Sub-issue  \\\n",
              "0               Information is not mine   \n",
              "1                                   NaN   \n",
              "2                                   NaN   \n",
              "3  Not given enough info to verify debt   \n",
              "4  Not given enough info to verify debt   \n",
              "\n",
              "                        Consumer complaint narrative  \\\n",
              "0                                                NaN   \n",
              "1  RE : XXXX XXXX XXXX-PRIVILEGED AND CONFIDENTIA...   \n",
              "2                                                NaN   \n",
              "3                                                NaN   \n",
              "4                                                NaN   \n",
              "\n",
              "                             Company public response  \\\n",
              "0                                                NaN   \n",
              "1                                                NaN   \n",
              "2                                                NaN   \n",
              "3  Company has responded to the consumer and the ...   \n",
              "4                                                NaN   \n",
              "\n",
              "                                     Company State ZIP code Tags  \\\n",
              "0                                    Equifax    GA    30134  NaN   \n",
              "1                      Wells Fargo & Company    GA    319XX  NaN   \n",
              "2                                   Citibank    SC    29203  NaN   \n",
              "3       FAIR COLLECTIONS & OUTSOURCING, INC.    OH    43082  NaN   \n",
              "4  HCFS Health Care Financial Services, Inc.    CA    90036  NaN   \n",
              "\n",
              "  Consumer consent provided? Submitted via Date sent to company  \\\n",
              "0       Consent not provided           Web           2015-10-14   \n",
              "1           Consent provided           Web           2015-04-26   \n",
              "2                        NaN         Phone           2014-01-03   \n",
              "3                        NaN      Referral           2016-03-04   \n",
              "4                        NaN           Web           2015-01-30   \n",
              "\n",
              "      Company response to consumer Timely response? Consumer disputed?  \\\n",
              "0          Closed with explanation              Yes                 No   \n",
              "1          Closed with explanation              Yes                Yes   \n",
              "2  Closed with non-monetary relief              Yes                 No   \n",
              "3          Closed with explanation              Yes                 No   \n",
              "4          Closed with explanation              Yes                Yes   \n",
              "\n",
              "   Complaint ID  \n",
              "0       1605653  \n",
              "1       1347613  \n",
              "2        640394  \n",
              "3       1815134  \n",
              "4       1218613  "
            ]
          },
          "metadata": {
            "tags": []
          },
          "execution_count": 2
        }
      ]
    },
    {
      "cell_type": "code",
      "metadata": {
        "id": "499iYVGM06jk"
      },
      "source": [
        "# Analysis of Missing values in the Data"
      ],
      "execution_count": null,
      "outputs": []
    },
    {
      "cell_type": "code",
      "metadata": {
        "id": "tWwU52sA06jk",
        "outputId": "8c9c11fd-2e17-4e64-e88e-2878da3abb83"
      },
      "source": [
        "\n",
        "df_train_1.isnull().sum()"
      ],
      "execution_count": null,
      "outputs": [
        {
          "output_type": "execute_result",
          "data": {
            "text/plain": [
              "Date received                        0\n",
              "Product                              0\n",
              "Sub-product                     103786\n",
              "Issue                                0\n",
              "Sub-issue                       219374\n",
              "Consumer complaint narrative    302630\n",
              "Company public response         290879\n",
              "Company                              0\n",
              "State                             2903\n",
              "ZIP code                          2911\n",
              "Tags                            308584\n",
              "Consumer consent provided?      257230\n",
              "Submitted via                        0\n",
              "Date sent to company                 0\n",
              "Company response to consumer         0\n",
              "Timely response?                     0\n",
              "Consumer disputed?                   0\n",
              "Complaint ID                         0\n",
              "dtype: int64"
            ]
          },
          "metadata": {
            "tags": []
          },
          "execution_count": 3
        }
      ]
    },
    {
      "cell_type": "code",
      "metadata": {
        "id": "wv9clU9M06jl",
        "outputId": "1278f7c4-d92f-47a2-a7ea-77aa21d8b5b8"
      },
      "source": [
        "# If Consumer consent provided? is empty, that means consent is not provided\n",
        "\n",
        "df_train_1['Consumer consent provided?']=df_train_1['Consumer consent provided?'].fillna('Consent not provided')\n",
        "df_train_1['Company public response']=df_train_1['Company public response'].fillna('Closed with explanation')\n",
        "df_train_1=df_train_1.drop(['Tags','Consumer complaint narrative'],axis=1)\n",
        "df_train_1.isnull().sum()"
      ],
      "execution_count": null,
      "outputs": [
        {
          "output_type": "execute_result",
          "data": {
            "text/plain": [
              "Date received                        0\n",
              "Product                              0\n",
              "Sub-product                     103786\n",
              "Issue                                0\n",
              "Sub-issue                       219374\n",
              "Company public response              0\n",
              "Company                              0\n",
              "State                             2903\n",
              "ZIP code                          2911\n",
              "Consumer consent provided?           0\n",
              "Submitted via                        0\n",
              "Date sent to company                 0\n",
              "Company response to consumer         0\n",
              "Timely response?                     0\n",
              "Consumer disputed?                   0\n",
              "Complaint ID                         0\n",
              "dtype: int64"
            ]
          },
          "metadata": {
            "tags": []
          },
          "execution_count": 4
        }
      ]
    },
    {
      "cell_type": "code",
      "metadata": {
        "id": "dWf-xshE06jl"
      },
      "source": [
        "from collections import Counter"
      ],
      "execution_count": null,
      "outputs": []
    },
    {
      "cell_type": "code",
      "metadata": {
        "id": "JNhBNhd_06jl"
      },
      "source": [
        "dict1=Counter(np.array(df_train_1['ZIP code'].dropna()).tolist())\n",
        "m=max(dict1.values())\n",
        "k=''\n",
        "\n",
        "for key,value in dict1.items():\n",
        "    if(value==m ):\n",
        "        df_train_1['ZIP code']=df_train_1['ZIP code'].fillna(key)\n",
        "        \n",
        "        \n"
      ],
      "execution_count": null,
      "outputs": []
    },
    {
      "cell_type": "code",
      "metadata": {
        "id": "yr45htWD06jm"
      },
      "source": [
        "dict1=Counter(np.array(df_train_1['State'].dropna()).tolist())\n",
        "m=max(dict1.values())\n",
        "k=''\n",
        "\n",
        "for key,value in dict1.items():\n",
        "    if(value==m ):\n",
        "        df_train_1['State']=df_train_1['State'].fillna(key)"
      ],
      "execution_count": null,
      "outputs": []
    },
    {
      "cell_type": "code",
      "metadata": {
        "id": "u0Wj6Mnr06jm",
        "outputId": "ef79ac57-89ba-4310-d013-b1764c4f3ee6"
      },
      "source": [
        "df_train_1.isnull().sum()"
      ],
      "execution_count": null,
      "outputs": [
        {
          "output_type": "execute_result",
          "data": {
            "text/plain": [
              "Date received                        0\n",
              "Product                              0\n",
              "Sub-product                     103786\n",
              "Issue                                0\n",
              "Sub-issue                       219374\n",
              "Company public response              0\n",
              "Company                              0\n",
              "State                                0\n",
              "ZIP code                             0\n",
              "Consumer consent provided?           0\n",
              "Submitted via                        0\n",
              "Date sent to company                 0\n",
              "Company response to consumer         0\n",
              "Timely response?                     0\n",
              "Consumer disputed?                   0\n",
              "Complaint ID                         0\n",
              "dtype: int64"
            ]
          },
          "metadata": {
            "tags": []
          },
          "execution_count": 8
        }
      ]
    },
    {
      "cell_type": "code",
      "metadata": {
        "id": "oV5NKfJF06jm"
      },
      "source": [
        "df_train_1=df_train_1.drop(['Sub-product','Sub-issue'],axis=1)"
      ],
      "execution_count": null,
      "outputs": []
    },
    {
      "cell_type": "code",
      "metadata": {
        "id": "LN5ff__A06jm",
        "outputId": "6945dac6-cc0a-421b-e6c1-dcdbc920a747"
      },
      "source": [
        "df_train_1.isnull().sum()"
      ],
      "execution_count": null,
      "outputs": [
        {
          "output_type": "execute_result",
          "data": {
            "text/plain": [
              "Date received                   0\n",
              "Product                         0\n",
              "Issue                           0\n",
              "Company public response         0\n",
              "Company                         0\n",
              "State                           0\n",
              "ZIP code                        0\n",
              "Consumer consent provided?      0\n",
              "Submitted via                   0\n",
              "Date sent to company            0\n",
              "Company response to consumer    0\n",
              "Timely response?                0\n",
              "Consumer disputed?              0\n",
              "Complaint ID                    0\n",
              "dtype: int64"
            ]
          },
          "metadata": {
            "tags": []
          },
          "execution_count": 10
        }
      ]
    },
    {
      "cell_type": "code",
      "metadata": {
        "id": "lEC2oPHc06jn",
        "outputId": "945b9303-c9c2-4ed8-a734-77946d265b1d"
      },
      "source": [
        "df_nullrem=df_train_1\n",
        "df_nullrem.head()"
      ],
      "execution_count": null,
      "outputs": [
        {
          "output_type": "execute_result",
          "data": {
            "text/html": [
              "<div>\n",
              "<style scoped>\n",
              "    .dataframe tbody tr th:only-of-type {\n",
              "        vertical-align: middle;\n",
              "    }\n",
              "\n",
              "    .dataframe tbody tr th {\n",
              "        vertical-align: top;\n",
              "    }\n",
              "\n",
              "    .dataframe thead th {\n",
              "        text-align: right;\n",
              "    }\n",
              "</style>\n",
              "<table border=\"1\" class=\"dataframe\">\n",
              "  <thead>\n",
              "    <tr style=\"text-align: right;\">\n",
              "      <th></th>\n",
              "      <th>Date received</th>\n",
              "      <th>Product</th>\n",
              "      <th>Issue</th>\n",
              "      <th>Company public response</th>\n",
              "      <th>Company</th>\n",
              "      <th>State</th>\n",
              "      <th>ZIP code</th>\n",
              "      <th>Consumer consent provided?</th>\n",
              "      <th>Submitted via</th>\n",
              "      <th>Date sent to company</th>\n",
              "      <th>Company response to consumer</th>\n",
              "      <th>Timely response?</th>\n",
              "      <th>Consumer disputed?</th>\n",
              "      <th>Complaint ID</th>\n",
              "    </tr>\n",
              "  </thead>\n",
              "  <tbody>\n",
              "    <tr>\n",
              "      <th>0</th>\n",
              "      <td>2015-10-14</td>\n",
              "      <td>Credit reporting</td>\n",
              "      <td>Incorrect information on credit report</td>\n",
              "      <td>Closed with explanation</td>\n",
              "      <td>Equifax</td>\n",
              "      <td>GA</td>\n",
              "      <td>30134</td>\n",
              "      <td>Consent not provided</td>\n",
              "      <td>Web</td>\n",
              "      <td>2015-10-14</td>\n",
              "      <td>Closed with explanation</td>\n",
              "      <td>Yes</td>\n",
              "      <td>No</td>\n",
              "      <td>1605653</td>\n",
              "    </tr>\n",
              "    <tr>\n",
              "      <th>1</th>\n",
              "      <td>2015-04-26</td>\n",
              "      <td>Bank account or service</td>\n",
              "      <td>Deposits and withdrawals</td>\n",
              "      <td>Closed with explanation</td>\n",
              "      <td>Wells Fargo &amp; Company</td>\n",
              "      <td>GA</td>\n",
              "      <td>319XX</td>\n",
              "      <td>Consent provided</td>\n",
              "      <td>Web</td>\n",
              "      <td>2015-04-26</td>\n",
              "      <td>Closed with explanation</td>\n",
              "      <td>Yes</td>\n",
              "      <td>Yes</td>\n",
              "      <td>1347613</td>\n",
              "    </tr>\n",
              "    <tr>\n",
              "      <th>2</th>\n",
              "      <td>2013-12-20</td>\n",
              "      <td>Credit card</td>\n",
              "      <td>Other</td>\n",
              "      <td>Closed with explanation</td>\n",
              "      <td>Citibank</td>\n",
              "      <td>SC</td>\n",
              "      <td>29203</td>\n",
              "      <td>Consent not provided</td>\n",
              "      <td>Phone</td>\n",
              "      <td>2014-01-03</td>\n",
              "      <td>Closed with non-monetary relief</td>\n",
              "      <td>Yes</td>\n",
              "      <td>No</td>\n",
              "      <td>640394</td>\n",
              "    </tr>\n",
              "    <tr>\n",
              "      <th>3</th>\n",
              "      <td>2016-03-03</td>\n",
              "      <td>Debt collection</td>\n",
              "      <td>Disclosure verification of debt</td>\n",
              "      <td>Company has responded to the consumer and the ...</td>\n",
              "      <td>FAIR COLLECTIONS &amp; OUTSOURCING, INC.</td>\n",
              "      <td>OH</td>\n",
              "      <td>43082</td>\n",
              "      <td>Consent not provided</td>\n",
              "      <td>Referral</td>\n",
              "      <td>2016-03-04</td>\n",
              "      <td>Closed with explanation</td>\n",
              "      <td>Yes</td>\n",
              "      <td>No</td>\n",
              "      <td>1815134</td>\n",
              "    </tr>\n",
              "    <tr>\n",
              "      <th>4</th>\n",
              "      <td>2015-01-30</td>\n",
              "      <td>Debt collection</td>\n",
              "      <td>Disclosure verification of debt</td>\n",
              "      <td>Closed with explanation</td>\n",
              "      <td>HCFS Health Care Financial Services, Inc.</td>\n",
              "      <td>CA</td>\n",
              "      <td>90036</td>\n",
              "      <td>Consent not provided</td>\n",
              "      <td>Web</td>\n",
              "      <td>2015-01-30</td>\n",
              "      <td>Closed with explanation</td>\n",
              "      <td>Yes</td>\n",
              "      <td>Yes</td>\n",
              "      <td>1218613</td>\n",
              "    </tr>\n",
              "  </tbody>\n",
              "</table>\n",
              "</div>"
            ],
            "text/plain": [
              "  Date received                  Product  \\\n",
              "0    2015-10-14         Credit reporting   \n",
              "1    2015-04-26  Bank account or service   \n",
              "2    2013-12-20              Credit card   \n",
              "3    2016-03-03          Debt collection   \n",
              "4    2015-01-30          Debt collection   \n",
              "\n",
              "                                    Issue  \\\n",
              "0  Incorrect information on credit report   \n",
              "1                Deposits and withdrawals   \n",
              "2                                   Other   \n",
              "3         Disclosure verification of debt   \n",
              "4         Disclosure verification of debt   \n",
              "\n",
              "                             Company public response  \\\n",
              "0                            Closed with explanation   \n",
              "1                            Closed with explanation   \n",
              "2                            Closed with explanation   \n",
              "3  Company has responded to the consumer and the ...   \n",
              "4                            Closed with explanation   \n",
              "\n",
              "                                     Company State ZIP code  \\\n",
              "0                                    Equifax    GA    30134   \n",
              "1                      Wells Fargo & Company    GA    319XX   \n",
              "2                                   Citibank    SC    29203   \n",
              "3       FAIR COLLECTIONS & OUTSOURCING, INC.    OH    43082   \n",
              "4  HCFS Health Care Financial Services, Inc.    CA    90036   \n",
              "\n",
              "  Consumer consent provided? Submitted via Date sent to company  \\\n",
              "0       Consent not provided           Web           2015-10-14   \n",
              "1           Consent provided           Web           2015-04-26   \n",
              "2       Consent not provided         Phone           2014-01-03   \n",
              "3       Consent not provided      Referral           2016-03-04   \n",
              "4       Consent not provided           Web           2015-01-30   \n",
              "\n",
              "      Company response to consumer Timely response? Consumer disputed?  \\\n",
              "0          Closed with explanation              Yes                 No   \n",
              "1          Closed with explanation              Yes                Yes   \n",
              "2  Closed with non-monetary relief              Yes                 No   \n",
              "3          Closed with explanation              Yes                 No   \n",
              "4          Closed with explanation              Yes                Yes   \n",
              "\n",
              "   Complaint ID  \n",
              "0       1605653  \n",
              "1       1347613  \n",
              "2        640394  \n",
              "3       1815134  \n",
              "4       1218613  "
            ]
          },
          "metadata": {
            "tags": []
          },
          "execution_count": 11
        }
      ]
    },
    {
      "cell_type": "code",
      "metadata": {
        "id": "vZC547jM06jn"
      },
      "source": [
        "# What is the number of unique values and most frequently occurring categories in the Categorical Columns?"
      ],
      "execution_count": null,
      "outputs": []
    },
    {
      "cell_type": "code",
      "metadata": {
        "id": "kQQhad5D06jn",
        "outputId": "92e5dba5-d0f5-41cb-aed3-ab468b318b0e"
      },
      "source": [
        "df_no_uniqueval=pd.DataFrame(df_nullrem.drop(['Date received','Complaint ID','Date sent to company'],axis=1).nunique())\n",
        "df_no_uniqueval"
      ],
      "execution_count": null,
      "outputs": [
        {
          "output_type": "execute_result",
          "data": {
            "text/html": [
              "<div>\n",
              "<style scoped>\n",
              "    .dataframe tbody tr th:only-of-type {\n",
              "        vertical-align: middle;\n",
              "    }\n",
              "\n",
              "    .dataframe tbody tr th {\n",
              "        vertical-align: top;\n",
              "    }\n",
              "\n",
              "    .dataframe thead th {\n",
              "        text-align: right;\n",
              "    }\n",
              "</style>\n",
              "<table border=\"1\" class=\"dataframe\">\n",
              "  <thead>\n",
              "    <tr style=\"text-align: right;\">\n",
              "      <th></th>\n",
              "      <th>0</th>\n",
              "    </tr>\n",
              "  </thead>\n",
              "  <tbody>\n",
              "    <tr>\n",
              "      <th>Product</th>\n",
              "      <td>12</td>\n",
              "    </tr>\n",
              "    <tr>\n",
              "      <th>Issue</th>\n",
              "      <td>95</td>\n",
              "    </tr>\n",
              "    <tr>\n",
              "      <th>Company public response</th>\n",
              "      <td>11</td>\n",
              "    </tr>\n",
              "    <tr>\n",
              "      <th>Company</th>\n",
              "      <td>3064</td>\n",
              "    </tr>\n",
              "    <tr>\n",
              "      <th>State</th>\n",
              "      <td>62</td>\n",
              "    </tr>\n",
              "    <tr>\n",
              "      <th>ZIP code</th>\n",
              "      <td>24181</td>\n",
              "    </tr>\n",
              "    <tr>\n",
              "      <th>Consumer consent provided?</th>\n",
              "      <td>4</td>\n",
              "    </tr>\n",
              "    <tr>\n",
              "      <th>Submitted via</th>\n",
              "      <td>6</td>\n",
              "    </tr>\n",
              "    <tr>\n",
              "      <th>Company response to consumer</th>\n",
              "      <td>6</td>\n",
              "    </tr>\n",
              "    <tr>\n",
              "      <th>Timely response?</th>\n",
              "      <td>2</td>\n",
              "    </tr>\n",
              "    <tr>\n",
              "      <th>Consumer disputed?</th>\n",
              "      <td>2</td>\n",
              "    </tr>\n",
              "  </tbody>\n",
              "</table>\n",
              "</div>"
            ],
            "text/plain": [
              "                                  0\n",
              "Product                          12\n",
              "Issue                            95\n",
              "Company public response          11\n",
              "Company                        3064\n",
              "State                            62\n",
              "ZIP code                      24181\n",
              "Consumer consent provided?        4\n",
              "Submitted via                     6\n",
              "Company response to consumer      6\n",
              "Timely response?                  2\n",
              "Consumer disputed?                2"
            ]
          },
          "metadata": {
            "tags": []
          },
          "execution_count": 13
        }
      ]
    },
    {
      "cell_type": "code",
      "metadata": {
        "id": "72nubHay06jn",
        "outputId": "8d5d9d5d-0c5d-4f0f-a5e0-105033f47764"
      },
      "source": [
        "df_prod=pd.DataFrame(df_nullrem['Product'].value_counts().reset_index())\n",
        "most_freq_prod=df_prod.head(n=1)['index'].tolist()[0]\n",
        "most_freq_prod"
      ],
      "execution_count": null,
      "outputs": [
        {
          "output_type": "execute_result",
          "data": {
            "text/plain": [
              "'Mortgage'"
            ]
          },
          "metadata": {
            "tags": []
          },
          "execution_count": 14
        }
      ]
    },
    {
      "cell_type": "code",
      "metadata": {
        "id": "Jkr8ST8b06jo",
        "outputId": "670c991b-89c1-4ed5-c6e3-2bbd545a4b6f"
      },
      "source": [
        "df_Issue=pd.DataFrame(df_nullrem['Issue'].value_counts().reset_index())\n",
        "most_freq_Issue=df_Issue.head(n=1)['index'].tolist()[0]\n",
        "most_freq_Issue"
      ],
      "execution_count": null,
      "outputs": [
        {
          "output_type": "execute_result",
          "data": {
            "text/plain": [
              "'Loan modification,collection,foreclosure'"
            ]
          },
          "metadata": {
            "tags": []
          },
          "execution_count": 15
        }
      ]
    },
    {
      "cell_type": "code",
      "metadata": {
        "id": "w7cvU-yI06jo",
        "outputId": "112811ec-a75a-4586-960b-986265fef7d1"
      },
      "source": [
        "df_cpr=pd.DataFrame(df_nullrem['Company public response'].value_counts().reset_index())\n",
        "most_freq_cpr=df_cpr.head(n=1)['index'].tolist()[0]\n",
        "most_freq_cpr"
      ],
      "execution_count": null,
      "outputs": [
        {
          "output_type": "execute_result",
          "data": {
            "text/plain": [
              "'Closed with explanation'"
            ]
          },
          "metadata": {
            "tags": []
          },
          "execution_count": 16
        }
      ]
    },
    {
      "cell_type": "code",
      "metadata": {
        "id": "sA7hwR7I06jo",
        "outputId": "321fc622-f20a-407d-a77d-577ccbac579b"
      },
      "source": [
        "df_Company=pd.DataFrame(df_nullrem['Company'].value_counts().reset_index())\n",
        "most_freq_Company=df_Company.head(n=1)['index'].tolist()[0]\n",
        "most_freq_Company"
      ],
      "execution_count": null,
      "outputs": [
        {
          "output_type": "execute_result",
          "data": {
            "text/plain": [
              "'Bank of America'"
            ]
          },
          "metadata": {
            "tags": []
          },
          "execution_count": 17
        }
      ]
    },
    {
      "cell_type": "code",
      "metadata": {
        "id": "GiYZIxGU06jp",
        "outputId": "b575e7a9-93b9-4507-c97b-e63c9fa0810e"
      },
      "source": [
        "df_State=pd.DataFrame(df_nullrem['State'].value_counts().reset_index())\n",
        "most_freq_State=df_State.head(n=1)['index'].tolist()[0]\n",
        "most_freq_State"
      ],
      "execution_count": null,
      "outputs": [
        {
          "output_type": "execute_result",
          "data": {
            "text/plain": [
              "'CA'"
            ]
          },
          "metadata": {
            "tags": []
          },
          "execution_count": 18
        }
      ]
    },
    {
      "cell_type": "code",
      "metadata": {
        "id": "koTzUOsc06jp",
        "outputId": "001fd4fb-ed4b-491f-b38f-56cf2bcb6ccb"
      },
      "source": [
        "df_ZIP=pd.DataFrame(df_nullrem['ZIP code'].value_counts().reset_index())\n",
        "most_freq_ZIP=df_ZIP.head(n=1)['index'].tolist()[0]\n",
        "most_freq_ZIP"
      ],
      "execution_count": null,
      "outputs": [
        {
          "output_type": "execute_result",
          "data": {
            "text/plain": [
              "'300XX'"
            ]
          },
          "metadata": {
            "tags": []
          },
          "execution_count": 19
        }
      ]
    },
    {
      "cell_type": "code",
      "metadata": {
        "id": "ePV_8vug06jp",
        "outputId": "8c52dbd1-4160-4f93-bdfa-269c1c827f1c"
      },
      "source": [
        "df_ccp=pd.DataFrame(df_nullrem['Consumer consent provided?'].value_counts().reset_index())\n",
        "most_freq_ccp=df_ccp.head(n=1)['index'].tolist()[0]\n",
        "most_freq_ccp"
      ],
      "execution_count": null,
      "outputs": [
        {
          "output_type": "execute_result",
          "data": {
            "text/plain": [
              "'Consent not provided'"
            ]
          },
          "metadata": {
            "tags": []
          },
          "execution_count": 20
        }
      ]
    },
    {
      "cell_type": "code",
      "metadata": {
        "id": "URGOuH7Y06jp",
        "outputId": "6bdfff58-692c-4dc1-e3be-8431c0427e12"
      },
      "source": [
        "df_sv=pd.DataFrame(df_nullrem['Submitted via'].value_counts().reset_index())\n",
        "most_freq_sv=df_sv.head(n=1)['index'].tolist()[0]\n",
        "most_freq_sv"
      ],
      "execution_count": null,
      "outputs": [
        {
          "output_type": "execute_result",
          "data": {
            "text/plain": [
              "'Web'"
            ]
          },
          "metadata": {
            "tags": []
          },
          "execution_count": 21
        }
      ]
    },
    {
      "cell_type": "code",
      "metadata": {
        "id": "ZVCrrgm206jp",
        "outputId": "7b3e56e6-b314-4469-dbef-203cce4e6012"
      },
      "source": [
        "df_crtc=pd.DataFrame(df_nullrem['Company response to consumer'].value_counts().reset_index())\n",
        "most_freq_crtc=df_crtc.head(n=1)['index'].tolist()[0]\n",
        "most_freq_crtc"
      ],
      "execution_count": null,
      "outputs": [
        {
          "output_type": "execute_result",
          "data": {
            "text/plain": [
              "'Closed with explanation'"
            ]
          },
          "metadata": {
            "tags": []
          },
          "execution_count": 22
        }
      ]
    },
    {
      "cell_type": "code",
      "metadata": {
        "id": "ys1LTlJz06jq",
        "outputId": "5a83f276-09bd-4d39-87ed-0c5bab0c0c82"
      },
      "source": [
        "df_tr=pd.DataFrame(df_nullrem['Timely response?'].value_counts().reset_index())\n",
        "most_freq_tr=df_tr.head(n=1)['index'].tolist()[0]\n",
        "most_freq_tr"
      ],
      "execution_count": null,
      "outputs": [
        {
          "output_type": "execute_result",
          "data": {
            "text/plain": [
              "'Yes'"
            ]
          },
          "metadata": {
            "tags": []
          },
          "execution_count": 23
        }
      ]
    },
    {
      "cell_type": "code",
      "metadata": {
        "id": "ub_3gXoj06jq",
        "outputId": "118f951f-15dc-400e-da49-fbd6799a63e2"
      },
      "source": [
        "df_cd=pd.DataFrame(df_nullrem['Consumer disputed?'].value_counts().reset_index())\n",
        "most_freq_cd=df_cd.head(n=1)['index'].tolist()[0]\n",
        "most_freq_cd"
      ],
      "execution_count": null,
      "outputs": [
        {
          "output_type": "execute_result",
          "data": {
            "text/plain": [
              "'No'"
            ]
          },
          "metadata": {
            "tags": []
          },
          "execution_count": 24
        }
      ]
    },
    {
      "cell_type": "code",
      "metadata": {
        "id": "LDMsF55I06jq"
      },
      "source": [
        "# Can you identify the top issues raised by consumers in this dataset?"
      ],
      "execution_count": null,
      "outputs": []
    },
    {
      "cell_type": "code",
      "metadata": {
        "id": "mRCkEFFO06jq",
        "outputId": "6ba94eef-e980-458f-d82f-3fe843f4f3bd"
      },
      "source": [
        "top5_Issue=np.array(df_Issue.head()['index']).tolist()\n",
        "top5_Issue\n",
        "\n",
        "# These 5 are the top issues that come up"
      ],
      "execution_count": null,
      "outputs": [
        {
          "output_type": "execute_result",
          "data": {
            "text/plain": [
              "['Loan modification,collection,foreclosure',\n",
              " 'Incorrect information on credit report',\n",
              " 'Loan servicing, payments, escrow account',\n",
              " \"Cont'd attempts collect debt not owed\",\n",
              " 'Account opening, closing, or management']"
            ]
          },
          "metadata": {
            "tags": []
          },
          "execution_count": 26
        }
      ]
    },
    {
      "cell_type": "code",
      "metadata": {
        "id": "6rofj_5E06jq"
      },
      "source": [
        "# Are there some products which receive a higher number of complaints?"
      ],
      "execution_count": null,
      "outputs": []
    },
    {
      "cell_type": "code",
      "metadata": {
        "id": "f8i9yRdo06jq",
        "outputId": "8b4050c5-ce59-49de-a9da-81ade9b3cb2c"
      },
      "source": [
        "prod_most_issue=np.array(df_prod.head()['index']).tolist()\n",
        "prod_most_issue\n",
        "\n",
        "# These 5 products have most complaints"
      ],
      "execution_count": null,
      "outputs": [
        {
          "output_type": "execute_result",
          "data": {
            "text/plain": [
              "['Mortgage',\n",
              " 'Debt collection',\n",
              " 'Credit reporting',\n",
              " 'Credit card',\n",
              " 'Bank account or service']"
            ]
          },
          "metadata": {
            "tags": []
          },
          "execution_count": 28
        }
      ]
    },
    {
      "cell_type": "code",
      "metadata": {
        "id": "hHDAj0dO06jr"
      },
      "source": [
        "# Do all the companies receive the same number of complaints?"
      ],
      "execution_count": null,
      "outputs": []
    },
    {
      "cell_type": "code",
      "metadata": {
        "id": "PnokLen906jr",
        "outputId": "6db61f28-8f5e-43ea-c849-d84f64db0780"
      },
      "source": [
        "comp_most_issue=np.array(df_Company.head()['index']).tolist()\n",
        "comp_most_issue\n",
        "\n",
        "# These 5 companies have most complaints"
      ],
      "execution_count": null,
      "outputs": [
        {
          "output_type": "execute_result",
          "data": {
            "text/plain": [
              "['Bank of America',\n",
              " 'Wells Fargo & Company',\n",
              " 'JPMorgan Chase & Co.',\n",
              " 'Equifax',\n",
              " 'Experian']"
            ]
          },
          "metadata": {
            "tags": []
          },
          "execution_count": 30
        }
      ]
    },
    {
      "cell_type": "code",
      "metadata": {
        "id": "8Sm8_vOm06jr"
      },
      "source": [
        "# How are the complaints submitted - through which medium?"
      ],
      "execution_count": null,
      "outputs": []
    },
    {
      "cell_type": "code",
      "metadata": {
        "id": "RJfVLP0d06jr",
        "outputId": "2eeae9b3-88f8-447d-fb84-1cedfb6a14fa"
      },
      "source": [
        "all_medium=np.array(df_sv['index']).tolist()\n",
        "all_medium\n",
        "\n",
        "# complaints are submitted through the following mediums"
      ],
      "execution_count": null,
      "outputs": [
        {
          "output_type": "execute_result",
          "data": {
            "text/plain": [
              "['Web', 'Referral', 'Phone', 'Postal mail', 'Fax', 'Email']"
            ]
          },
          "metadata": {
            "tags": []
          },
          "execution_count": 32
        }
      ]
    },
    {
      "cell_type": "code",
      "metadata": {
        "id": "Vc3xmtir06jr"
      },
      "source": [
        "# What is the geographical distribution of the complaints?"
      ],
      "execution_count": null,
      "outputs": []
    },
    {
      "cell_type": "code",
      "metadata": {
        "id": "jamkOTXL06jr",
        "outputId": "07eb07ef-5ee5-42d2-9ffc-a3ab5a326716"
      },
      "source": [
        "import matplotlib.pyplot as plt\n",
        "import seaborn as sns\n",
        "sns.set()\n",
        "\n",
        "df_State.plot(x ='index', y='State', kind = 'scatter')\n",
        "plt.xlabel('STATE')\n",
        "plt.ylabel('COMPLAINTS')\n",
        "plt.figure(figsize=(600,300))\n",
        "plt.show()"
      ],
      "execution_count": null,
      "outputs": [
        {
          "output_type": "stream",
          "text": [
            "'c' argument looks like a single numeric RGB or RGBA sequence, which should be avoided as value-mapping will have precedence in case its length matches with 'x' & 'y'.  Please use a 2-D array with a single row if you really want to specify the same RGB or RGBA value for all points.\n"
          ],
          "name": "stderr"
        },
        {
          "output_type": "display_data",
          "data": {
            "image/png": "[encoded data removed]",
            "text/plain": [
              "<Figure size 432x288 with 1 Axes>"
            ]
          },
          "metadata": {
            "tags": []
          }
        },
        {
          "output_type": "display_data",
          "data": {
            "text/plain": [
              "<Figure size 43200x21600 with 0 Axes>"
            ]
          },
          "metadata": {
            "tags": []
          }
        }
      ]
    },
    {
      "cell_type": "code",
      "metadata": {
        "id": "IQCEt9KO06js"
      },
      "source": [
        "# Do the complaints rise in any specific month or day of the week?"
      ],
      "execution_count": null,
      "outputs": []
    },
    {
      "cell_type": "code",
      "metadata": {
        "id": "Pp9TyiJP06js",
        "outputId": "dbc5b1ac-a2c9-46f5-d054-522071f2c79c"
      },
      "source": [
        "df_nullrem['Date received'] = pd.to_datetime(df_nullrem['Date received'])\n",
        "df_nullrem.head()"
      ],
      "execution_count": null,
      "outputs": [
        {
          "output_type": "execute_result",
          "data": {
            "text/html": [
              "<div>\n",
              "<style scoped>\n",
              "    .dataframe tbody tr th:only-of-type {\n",
              "        vertical-align: middle;\n",
              "    }\n",
              "\n",
              "    .dataframe tbody tr th {\n",
              "        vertical-align: top;\n",
              "    }\n",
              "\n",
              "    .dataframe thead th {\n",
              "        text-align: right;\n",
              "    }\n",
              "</style>\n",
              "<table border=\"1\" class=\"dataframe\">\n",
              "  <thead>\n",
              "    <tr style=\"text-align: right;\">\n",
              "      <th></th>\n",
              "      <th>Date received</th>\n",
              "      <th>Product</th>\n",
              "      <th>Issue</th>\n",
              "      <th>Company public response</th>\n",
              "      <th>Company</th>\n",
              "      <th>State</th>\n",
              "      <th>ZIP code</th>\n",
              "      <th>Consumer consent provided?</th>\n",
              "      <th>Submitted via</th>\n",
              "      <th>Date sent to company</th>\n",
              "      <th>Company response to consumer</th>\n",
              "      <th>Timely response?</th>\n",
              "      <th>Consumer disputed?</th>\n",
              "      <th>Complaint ID</th>\n",
              "    </tr>\n",
              "  </thead>\n",
              "  <tbody>\n",
              "    <tr>\n",
              "      <th>0</th>\n",
              "      <td>2015-10-14</td>\n",
              "      <td>Credit reporting</td>\n",
              "      <td>Incorrect information on credit report</td>\n",
              "      <td>Closed with explanation</td>\n",
              "      <td>Equifax</td>\n",
              "      <td>GA</td>\n",
              "      <td>30134</td>\n",
              "      <td>Consent not provided</td>\n",
              "      <td>Web</td>\n",
              "      <td>2015-10-14</td>\n",
              "      <td>Closed with explanation</td>\n",
              "      <td>Yes</td>\n",
              "      <td>No</td>\n",
              "      <td>1605653</td>\n",
              "    </tr>\n",
              "    <tr>\n",
              "      <th>1</th>\n",
              "      <td>2015-04-26</td>\n",
              "      <td>Bank account or service</td>\n",
              "      <td>Deposits and withdrawals</td>\n",
              "      <td>Closed with explanation</td>\n",
              "      <td>Wells Fargo &amp; Company</td>\n",
              "      <td>GA</td>\n",
              "      <td>319XX</td>\n",
              "      <td>Consent provided</td>\n",
              "      <td>Web</td>\n",
              "      <td>2015-04-26</td>\n",
              "      <td>Closed with explanation</td>\n",
              "      <td>Yes</td>\n",
              "      <td>Yes</td>\n",
              "      <td>1347613</td>\n",
              "    </tr>\n",
              "    <tr>\n",
              "      <th>2</th>\n",
              "      <td>2013-12-20</td>\n",
              "      <td>Credit card</td>\n",
              "      <td>Other</td>\n",
              "      <td>Closed with explanation</td>\n",
              "      <td>Citibank</td>\n",
              "      <td>SC</td>\n",
              "      <td>29203</td>\n",
              "      <td>Consent not provided</td>\n",
              "      <td>Phone</td>\n",
              "      <td>2014-01-03</td>\n",
              "      <td>Closed with non-monetary relief</td>\n",
              "      <td>Yes</td>\n",
              "      <td>No</td>\n",
              "      <td>640394</td>\n",
              "    </tr>\n",
              "    <tr>\n",
              "      <th>3</th>\n",
              "      <td>2016-03-03</td>\n",
              "      <td>Debt collection</td>\n",
              "      <td>Disclosure verification of debt</td>\n",
              "      <td>Company has responded to the consumer and the ...</td>\n",
              "      <td>FAIR COLLECTIONS &amp; OUTSOURCING, INC.</td>\n",
              "      <td>OH</td>\n",
              "      <td>43082</td>\n",
              "      <td>Consent not provided</td>\n",
              "      <td>Referral</td>\n",
              "      <td>2016-03-04</td>\n",
              "      <td>Closed with explanation</td>\n",
              "      <td>Yes</td>\n",
              "      <td>No</td>\n",
              "      <td>1815134</td>\n",
              "    </tr>\n",
              "    <tr>\n",
              "      <th>4</th>\n",
              "      <td>2015-01-30</td>\n",
              "      <td>Debt collection</td>\n",
              "      <td>Disclosure verification of debt</td>\n",
              "      <td>Closed with explanation</td>\n",
              "      <td>HCFS Health Care Financial Services, Inc.</td>\n",
              "      <td>CA</td>\n",
              "      <td>90036</td>\n",
              "      <td>Consent not provided</td>\n",
              "      <td>Web</td>\n",
              "      <td>2015-01-30</td>\n",
              "      <td>Closed with explanation</td>\n",
              "      <td>Yes</td>\n",
              "      <td>Yes</td>\n",
              "      <td>1218613</td>\n",
              "    </tr>\n",
              "  </tbody>\n",
              "</table>\n",
              "</div>"
            ],
            "text/plain": [
              "  Date received                  Product  \\\n",
              "0    2015-10-14         Credit reporting   \n",
              "1    2015-04-26  Bank account or service   \n",
              "2    2013-12-20              Credit card   \n",
              "3    2016-03-03          Debt collection   \n",
              "4    2015-01-30          Debt collection   \n",
              "\n",
              "                                    Issue  \\\n",
              "0  Incorrect information on credit report   \n",
              "1                Deposits and withdrawals   \n",
              "2                                   Other   \n",
              "3         Disclosure verification of debt   \n",
              "4         Disclosure verification of debt   \n",
              "\n",
              "                             Company public response  \\\n",
              "0                            Closed with explanation   \n",
              "1                            Closed with explanation   \n",
              "2                            Closed with explanation   \n",
              "3  Company has responded to the consumer and the ...   \n",
              "4                            Closed with explanation   \n",
              "\n",
              "                                     Company State ZIP code  \\\n",
              "0                                    Equifax    GA    30134   \n",
              "1                      Wells Fargo & Company    GA    319XX   \n",
              "2                                   Citibank    SC    29203   \n",
              "3       FAIR COLLECTIONS & OUTSOURCING, INC.    OH    43082   \n",
              "4  HCFS Health Care Financial Services, Inc.    CA    90036   \n",
              "\n",
              "  Consumer consent provided? Submitted via Date sent to company  \\\n",
              "0       Consent not provided           Web           2015-10-14   \n",
              "1           Consent provided           Web           2015-04-26   \n",
              "2       Consent not provided         Phone           2014-01-03   \n",
              "3       Consent not provided      Referral           2016-03-04   \n",
              "4       Consent not provided           Web           2015-01-30   \n",
              "\n",
              "      Company response to consumer Timely response? Consumer disputed?  \\\n",
              "0          Closed with explanation              Yes                 No   \n",
              "1          Closed with explanation              Yes                Yes   \n",
              "2  Closed with non-monetary relief              Yes                 No   \n",
              "3          Closed with explanation              Yes                 No   \n",
              "4          Closed with explanation              Yes                Yes   \n",
              "\n",
              "   Complaint ID  \n",
              "0       1605653  \n",
              "1       1347613  \n",
              "2        640394  \n",
              "3       1815134  \n",
              "4       1218613  "
            ]
          },
          "metadata": {
            "tags": []
          },
          "execution_count": 35
        }
      ]
    },
    {
      "cell_type": "code",
      "metadata": {
        "id": "ubqE1GEL06js"
      },
      "source": [
        "df_temp=df_nullrem"
      ],
      "execution_count": null,
      "outputs": []
    },
    {
      "cell_type": "code",
      "metadata": {
        "id": "99bG3kHv06js"
      },
      "source": [
        "df_temp['Month']=df_temp['Date received'].dt.month_name()\n",
        "df_temp['Year']=pd.DatetimeIndex(df_temp['Date received']).year\n",
        "df_temp['Day']=df_temp['Date received'].dt.day_name()"
      ],
      "execution_count": null,
      "outputs": []
    },
    {
      "cell_type": "code",
      "metadata": {
        "id": "y8jj5oYW06js",
        "outputId": "8053a3f3-8502-4224-e17e-9f532e86b570"
      },
      "source": [
        "list_month=np.array(df_temp['Month']).tolist()\n",
        "month_counter=Counter(list_month)\n",
        "m_mon=max(month_counter.values())\n",
        "max_complain_in=''\n",
        "\n",
        "for key,value in month_counter.items():\n",
        "    if(value==m_mon):\n",
        "        max_complain_in=key\n",
        "        \n",
        "max_complain_in\n",
        "\n",
        "# MAximum Number of complaints come in this month"
      ],
      "execution_count": null,
      "outputs": [
        {
          "output_type": "execute_result",
          "data": {
            "text/plain": [
              "'March'"
            ]
          },
          "metadata": {
            "tags": []
          },
          "execution_count": 38
        }
      ]
    },
    {
      "cell_type": "code",
      "metadata": {
        "id": "vX3QfCSF06jt",
        "outputId": "f353a02a-599c-479e-8e8f-4e62fd644f52"
      },
      "source": [
        "list_day=np.array(df_temp['Day']).tolist()\n",
        "day_counter=Counter(list_day)\n",
        "m_day=max(day_counter.values())\n",
        "m_day\n",
        "\n",
        "max_complain_day=''\n",
        "for key,value in day_counter.items():\n",
        "    if(value==m_day):\n",
        "        max_complain_day=key\n",
        "        \n",
        "max_complain_day\n",
        "# MAximum Number of complaints come in this day"
      ],
      "execution_count": null,
      "outputs": [
        {
          "output_type": "execute_result",
          "data": {
            "text/plain": [
              "'Wednesday'"
            ]
          },
          "metadata": {
            "tags": []
          },
          "execution_count": 39
        }
      ]
    },
    {
      "cell_type": "code",
      "metadata": {
        "id": "gTjKtHSr06jt"
      },
      "source": [
        "# How do companies respond to the complaints? What are the most common responses received?"
      ],
      "execution_count": null,
      "outputs": []
    },
    {
      "cell_type": "code",
      "metadata": {
        "id": "RKE3QiQS06jt",
        "outputId": "386006a5-3782-48b8-b948-81b3e2c5dce5"
      },
      "source": [
        "df_tr=pd.DataFrame(df_nullrem['Timely response?'].value_counts().reset_index())\n",
        "response=np.array(df_tr['Timely response?']).tolist()\n",
        "response\n",
        "\n",
        "percent_timely_response=(response[0]/(response[0]+response[1]))*100\n",
        "percent_timely_response\n",
        "\n",
        "# The companies respond on time 98.29% of the times"
      ],
      "execution_count": null,
      "outputs": [
        {
          "output_type": "execute_result",
          "data": {
            "text/plain": [
              "98.29018143307042"
            ]
          },
          "metadata": {
            "tags": []
          },
          "execution_count": 41
        }
      ]
    },
    {
      "cell_type": "code",
      "metadata": {
        "id": "-ec3EFpA06jt",
        "outputId": "2b103f00-a8c1-4a99-d152-27b1f8814f3e"
      },
      "source": [
        "df_crtc=pd.DataFrame(df_nullrem['Company response to consumer'].value_counts().reset_index())\n",
        "most_freq_crtc=df_crtc.head(n=1)['index'].tolist()[0]\n",
        "most_freq_crtc\n",
        "#This is the most common responses recieved"
      ],
      "execution_count": null,
      "outputs": [
        {
          "output_type": "execute_result",
          "data": {
            "text/plain": [
              "'Closed with explanation'"
            ]
          },
          "metadata": {
            "tags": []
          },
          "execution_count": 42
        }
      ]
    },
    {
      "cell_type": "code",
      "metadata": {
        "id": "afcpBxEf06jt"
      },
      "source": [
        "# Does responding to complaints in a timely manner alter the number of consumers that\n",
        "# disputed the company response and those that did not?"
      ],
      "execution_count": null,
      "outputs": []
    },
    {
      "cell_type": "code",
      "metadata": {
        "id": "7etiCpu506ju",
        "outputId": "90660409-e8ea-4755-d06a-8afc29193985"
      },
      "source": [
        "df_timely_res_yes=df_nullrem[(df_nullrem['Timely response?']=='Yes') & (df_nullrem['Consumer disputed?']=='Yes')]\n",
        "df_timely_res=df_nullrem[df_nullrem['Timely response?']=='Yes']\n",
        "\n",
        "percent=(len(df_timely_res_yes)/len(df_timely_res))*100\n",
        "percent"
      ],
      "execution_count": null,
      "outputs": [
        {
          "output_type": "execute_result",
          "data": {
            "text/plain": [
              "21.249875948110866"
            ]
          },
          "metadata": {
            "tags": []
          },
          "execution_count": 44
        }
      ]
    },
    {
      "cell_type": "code",
      "metadata": {
        "id": "0ln3jr_f06ju"
      },
      "source": [
        "# only 21.25 percent of the customers have disputed when a timely response was given\n",
        "# from the above analysis we see that majority of customers have not disputed when a timely response was given"
      ],
      "execution_count": null,
      "outputs": []
    }
  ]
}